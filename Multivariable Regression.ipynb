{
 "cells": [
  {
   "cell_type": "code",
   "execution_count": 1,
   "id": "88894846",
   "metadata": {},
   "outputs": [],
   "source": [
    "import numpy as np\n",
    "import pandas as pd\n",
    "import matplotlib.pyplot as plt"
   ]
  },
  {
   "cell_type": "code",
   "execution_count": 2,
   "id": "f01a35a4",
   "metadata": {},
   "outputs": [],
   "source": [
    "data = pd.read_csv('reg.txt', header=None, names=['Size', 'Bedrooms', 'Price'])"
   ]
  },
  {
   "cell_type": "code",
   "execution_count": 3,
   "id": "7ea15207",
   "metadata": {},
   "outputs": [
    {
     "data": {
      "text/html": [
       "<div>\n",
       "<style scoped>\n",
       "    .dataframe tbody tr th:only-of-type {\n",
       "        vertical-align: middle;\n",
       "    }\n",
       "\n",
       "    .dataframe tbody tr th {\n",
       "        vertical-align: top;\n",
       "    }\n",
       "\n",
       "    .dataframe thead th {\n",
       "        text-align: right;\n",
       "    }\n",
       "</style>\n",
       "<table border=\"1\" class=\"dataframe\">\n",
       "  <thead>\n",
       "    <tr style=\"text-align: right;\">\n",
       "      <th></th>\n",
       "      <th>Size</th>\n",
       "      <th>Bedrooms</th>\n",
       "      <th>Price</th>\n",
       "    </tr>\n",
       "  </thead>\n",
       "  <tbody>\n",
       "    <tr>\n",
       "      <th>0</th>\n",
       "      <td>2104</td>\n",
       "      <td>3</td>\n",
       "      <td>399900</td>\n",
       "    </tr>\n",
       "    <tr>\n",
       "      <th>1</th>\n",
       "      <td>1600</td>\n",
       "      <td>3</td>\n",
       "      <td>329900</td>\n",
       "    </tr>\n",
       "    <tr>\n",
       "      <th>2</th>\n",
       "      <td>2400</td>\n",
       "      <td>3</td>\n",
       "      <td>369000</td>\n",
       "    </tr>\n",
       "    <tr>\n",
       "      <th>3</th>\n",
       "      <td>1416</td>\n",
       "      <td>2</td>\n",
       "      <td>232000</td>\n",
       "    </tr>\n",
       "    <tr>\n",
       "      <th>4</th>\n",
       "      <td>3000</td>\n",
       "      <td>4</td>\n",
       "      <td>539900</td>\n",
       "    </tr>\n",
       "  </tbody>\n",
       "</table>\n",
       "</div>"
      ],
      "text/plain": [
       "   Size  Bedrooms   Price\n",
       "0  2104         3  399900\n",
       "1  1600         3  329900\n",
       "2  2400         3  369000\n",
       "3  1416         2  232000\n",
       "4  3000         4  539900"
      ]
     },
     "execution_count": 3,
     "metadata": {},
     "output_type": "execute_result"
    }
   ],
   "source": [
    "data.head()"
   ]
  },
  {
   "cell_type": "code",
   "execution_count": 4,
   "id": "07e336e6",
   "metadata": {},
   "outputs": [
    {
     "data": {
      "text/html": [
       "<div>\n",
       "<style scoped>\n",
       "    .dataframe tbody tr th:only-of-type {\n",
       "        vertical-align: middle;\n",
       "    }\n",
       "\n",
       "    .dataframe tbody tr th {\n",
       "        vertical-align: top;\n",
       "    }\n",
       "\n",
       "    .dataframe thead th {\n",
       "        text-align: right;\n",
       "    }\n",
       "</style>\n",
       "<table border=\"1\" class=\"dataframe\">\n",
       "  <thead>\n",
       "    <tr style=\"text-align: right;\">\n",
       "      <th></th>\n",
       "      <th>Size</th>\n",
       "      <th>Bedrooms</th>\n",
       "      <th>Price</th>\n",
       "    </tr>\n",
       "  </thead>\n",
       "  <tbody>\n",
       "    <tr>\n",
       "      <th>count</th>\n",
       "      <td>47.000000</td>\n",
       "      <td>47.000000</td>\n",
       "      <td>47.000000</td>\n",
       "    </tr>\n",
       "    <tr>\n",
       "      <th>mean</th>\n",
       "      <td>2000.680851</td>\n",
       "      <td>3.170213</td>\n",
       "      <td>340412.659574</td>\n",
       "    </tr>\n",
       "    <tr>\n",
       "      <th>std</th>\n",
       "      <td>794.702354</td>\n",
       "      <td>0.760982</td>\n",
       "      <td>125039.899586</td>\n",
       "    </tr>\n",
       "    <tr>\n",
       "      <th>min</th>\n",
       "      <td>852.000000</td>\n",
       "      <td>1.000000</td>\n",
       "      <td>169900.000000</td>\n",
       "    </tr>\n",
       "    <tr>\n",
       "      <th>25%</th>\n",
       "      <td>1432.000000</td>\n",
       "      <td>3.000000</td>\n",
       "      <td>249900.000000</td>\n",
       "    </tr>\n",
       "    <tr>\n",
       "      <th>50%</th>\n",
       "      <td>1888.000000</td>\n",
       "      <td>3.000000</td>\n",
       "      <td>299900.000000</td>\n",
       "    </tr>\n",
       "    <tr>\n",
       "      <th>75%</th>\n",
       "      <td>2269.000000</td>\n",
       "      <td>4.000000</td>\n",
       "      <td>384450.000000</td>\n",
       "    </tr>\n",
       "    <tr>\n",
       "      <th>max</th>\n",
       "      <td>4478.000000</td>\n",
       "      <td>5.000000</td>\n",
       "      <td>699900.000000</td>\n",
       "    </tr>\n",
       "  </tbody>\n",
       "</table>\n",
       "</div>"
      ],
      "text/plain": [
       "              Size   Bedrooms          Price\n",
       "count    47.000000  47.000000      47.000000\n",
       "mean   2000.680851   3.170213  340412.659574\n",
       "std     794.702354   0.760982  125039.899586\n",
       "min     852.000000   1.000000  169900.000000\n",
       "25%    1432.000000   3.000000  249900.000000\n",
       "50%    1888.000000   3.000000  299900.000000\n",
       "75%    2269.000000   4.000000  384450.000000\n",
       "max    4478.000000   5.000000  699900.000000"
      ]
     },
     "execution_count": 4,
     "metadata": {},
     "output_type": "execute_result"
    }
   ],
   "source": [
    "data.describe()"
   ]
  },
  {
   "cell_type": "markdown",
   "id": "9eea80fb",
   "metadata": {},
   "source": [
    "## Rescaling Data"
   ]
  },
  {
   "cell_type": "code",
   "execution_count": 5,
   "id": "9be06e3e",
   "metadata": {},
   "outputs": [],
   "source": [
    "data = (data-data.mean())/data.std()"
   ]
  },
  {
   "cell_type": "code",
   "execution_count": 6,
   "id": "27e990d6",
   "metadata": {},
   "outputs": [
    {
     "data": {
      "text/html": [
       "<div>\n",
       "<style scoped>\n",
       "    .dataframe tbody tr th:only-of-type {\n",
       "        vertical-align: middle;\n",
       "    }\n",
       "\n",
       "    .dataframe tbody tr th {\n",
       "        vertical-align: top;\n",
       "    }\n",
       "\n",
       "    .dataframe thead th {\n",
       "        text-align: right;\n",
       "    }\n",
       "</style>\n",
       "<table border=\"1\" class=\"dataframe\">\n",
       "  <thead>\n",
       "    <tr style=\"text-align: right;\">\n",
       "      <th></th>\n",
       "      <th>Size</th>\n",
       "      <th>Bedrooms</th>\n",
       "      <th>Price</th>\n",
       "    </tr>\n",
       "  </thead>\n",
       "  <tbody>\n",
       "    <tr>\n",
       "      <th>0</th>\n",
       "      <td>0.130010</td>\n",
       "      <td>-0.223675</td>\n",
       "      <td>0.475747</td>\n",
       "    </tr>\n",
       "    <tr>\n",
       "      <th>1</th>\n",
       "      <td>-0.504190</td>\n",
       "      <td>-0.223675</td>\n",
       "      <td>-0.084074</td>\n",
       "    </tr>\n",
       "    <tr>\n",
       "      <th>2</th>\n",
       "      <td>0.502476</td>\n",
       "      <td>-0.223675</td>\n",
       "      <td>0.228626</td>\n",
       "    </tr>\n",
       "    <tr>\n",
       "      <th>3</th>\n",
       "      <td>-0.735723</td>\n",
       "      <td>-1.537767</td>\n",
       "      <td>-0.867025</td>\n",
       "    </tr>\n",
       "    <tr>\n",
       "      <th>4</th>\n",
       "      <td>1.257476</td>\n",
       "      <td>1.090417</td>\n",
       "      <td>1.595389</td>\n",
       "    </tr>\n",
       "  </tbody>\n",
       "</table>\n",
       "</div>"
      ],
      "text/plain": [
       "       Size  Bedrooms     Price\n",
       "0  0.130010 -0.223675  0.475747\n",
       "1 -0.504190 -0.223675 -0.084074\n",
       "2  0.502476 -0.223675  0.228626\n",
       "3 -0.735723 -1.537767 -0.867025\n",
       "4  1.257476  1.090417  1.595389"
      ]
     },
     "execution_count": 6,
     "metadata": {},
     "output_type": "execute_result"
    }
   ],
   "source": [
    "data.head()"
   ]
  },
  {
   "cell_type": "code",
   "execution_count": 7,
   "id": "01092462",
   "metadata": {},
   "outputs": [],
   "source": [
    "data.insert(0, 'Ones', 1)"
   ]
  },
  {
   "cell_type": "code",
   "execution_count": 8,
   "id": "bb46b66d",
   "metadata": {},
   "outputs": [],
   "source": [
    "X=data.drop('Price', axis=1)\n",
    "y=data['Price']"
   ]
  },
  {
   "cell_type": "code",
   "execution_count": 12,
   "id": "62fc68ef",
   "metadata": {},
   "outputs": [
    {
     "data": {
      "text/html": [
       "<div>\n",
       "<style scoped>\n",
       "    .dataframe tbody tr th:only-of-type {\n",
       "        vertical-align: middle;\n",
       "    }\n",
       "\n",
       "    .dataframe tbody tr th {\n",
       "        vertical-align: top;\n",
       "    }\n",
       "\n",
       "    .dataframe thead th {\n",
       "        text-align: right;\n",
       "    }\n",
       "</style>\n",
       "<table border=\"1\" class=\"dataframe\">\n",
       "  <thead>\n",
       "    <tr style=\"text-align: right;\">\n",
       "      <th></th>\n",
       "      <th>Ones</th>\n",
       "      <th>Size</th>\n",
       "      <th>Bedrooms</th>\n",
       "    </tr>\n",
       "  </thead>\n",
       "  <tbody>\n",
       "    <tr>\n",
       "      <th>0</th>\n",
       "      <td>1</td>\n",
       "      <td>0.13001</td>\n",
       "      <td>-0.223675</td>\n",
       "    </tr>\n",
       "    <tr>\n",
       "      <th>1</th>\n",
       "      <td>1</td>\n",
       "      <td>-0.50419</td>\n",
       "      <td>-0.223675</td>\n",
       "    </tr>\n",
       "  </tbody>\n",
       "</table>\n",
       "</div>"
      ],
      "text/plain": [
       "   Ones     Size  Bedrooms\n",
       "0     1  0.13001 -0.223675\n",
       "1     1 -0.50419 -0.223675"
      ]
     },
     "execution_count": 12,
     "metadata": {},
     "output_type": "execute_result"
    }
   ],
   "source": [
    "X.head(2)"
   ]
  },
  {
   "cell_type": "code",
   "execution_count": 13,
   "id": "6854738e",
   "metadata": {},
   "outputs": [
    {
     "data": {
      "text/plain": [
       "0    0.475747\n",
       "1   -0.084074\n",
       "Name: Price, dtype: float64"
      ]
     },
     "execution_count": 13,
     "metadata": {},
     "output_type": "execute_result"
    }
   ],
   "source": [
    "y.head(2)"
   ]
  },
  {
   "cell_type": "code",
   "execution_count": 14,
   "id": "26cd638b",
   "metadata": {},
   "outputs": [],
   "source": [
    "X = np.array(X)\n",
    "y = np.array(y)\n",
    "theta = np.array([0, 0, 0])"
   ]
  },
  {
   "cell_type": "code",
   "execution_count": 15,
   "id": "f4c45814",
   "metadata": {
    "scrolled": true
   },
   "outputs": [
    {
     "data": {
      "text/plain": [
       "array([[ 1.00000000e+00,  1.30009869e-01, -2.23675187e-01],\n",
       "       [ 1.00000000e+00, -5.04189838e-01, -2.23675187e-01],\n",
       "       [ 1.00000000e+00,  5.02476364e-01, -2.23675187e-01],\n",
       "       [ 1.00000000e+00, -7.35723065e-01, -1.53776691e+00],\n",
       "       [ 1.00000000e+00,  1.25747602e+00,  1.09041654e+00],\n",
       "       [ 1.00000000e+00, -1.97317285e-02,  1.09041654e+00],\n",
       "       [ 1.00000000e+00, -5.87239800e-01, -2.23675187e-01],\n",
       "       [ 1.00000000e+00, -7.21881404e-01, -2.23675187e-01],\n",
       "       [ 1.00000000e+00, -7.81023044e-01, -2.23675187e-01],\n",
       "       [ 1.00000000e+00, -6.37573110e-01, -2.23675187e-01],\n",
       "       [ 1.00000000e+00, -7.63567023e-02,  1.09041654e+00],\n",
       "       [ 1.00000000e+00, -8.56737193e-04, -2.23675187e-01],\n",
       "       [ 1.00000000e+00, -1.39273340e-01, -2.23675187e-01],\n",
       "       [ 1.00000000e+00,  3.11729182e+00,  2.40450826e+00],\n",
       "       [ 1.00000000e+00, -9.21956312e-01, -2.23675187e-01],\n",
       "       [ 1.00000000e+00,  3.76643089e-01,  1.09041654e+00],\n",
       "       [ 1.00000000e+00, -8.56523009e-01, -1.53776691e+00],\n",
       "       [ 1.00000000e+00, -9.62222960e-01, -2.23675187e-01],\n",
       "       [ 1.00000000e+00,  7.65467909e-01,  1.09041654e+00],\n",
       "       [ 1.00000000e+00,  1.29648433e+00,  1.09041654e+00],\n",
       "       [ 1.00000000e+00, -2.94048269e-01, -2.23675187e-01],\n",
       "       [ 1.00000000e+00, -1.41790005e-01, -1.53776691e+00],\n",
       "       [ 1.00000000e+00, -4.99156507e-01, -2.23675187e-01],\n",
       "       [ 1.00000000e+00, -4.86733818e-02,  1.09041654e+00],\n",
       "       [ 1.00000000e+00,  2.37739217e+00, -2.23675187e-01],\n",
       "       [ 1.00000000e+00, -1.13335621e+00, -2.23675187e-01],\n",
       "       [ 1.00000000e+00, -6.82873089e-01, -2.23675187e-01],\n",
       "       [ 1.00000000e+00,  6.61026291e-01, -2.23675187e-01],\n",
       "       [ 1.00000000e+00,  2.50809813e-01, -2.23675187e-01],\n",
       "       [ 1.00000000e+00,  8.00701226e-01, -2.23675187e-01],\n",
       "       [ 1.00000000e+00, -2.03448310e-01, -1.53776691e+00],\n",
       "       [ 1.00000000e+00, -1.25918949e+00, -2.85185864e+00],\n",
       "       [ 1.00000000e+00,  4.94765729e-02,  1.09041654e+00],\n",
       "       [ 1.00000000e+00,  1.42986760e+00, -2.23675187e-01],\n",
       "       [ 1.00000000e+00, -2.38681627e-01,  1.09041654e+00],\n",
       "       [ 1.00000000e+00, -7.09298077e-01, -2.23675187e-01],\n",
       "       [ 1.00000000e+00, -9.58447962e-01, -2.23675187e-01],\n",
       "       [ 1.00000000e+00,  1.65243186e-01,  1.09041654e+00],\n",
       "       [ 1.00000000e+00,  2.78635031e+00,  1.09041654e+00],\n",
       "       [ 1.00000000e+00,  2.02993169e-01,  1.09041654e+00],\n",
       "       [ 1.00000000e+00, -4.23656542e-01, -1.53776691e+00],\n",
       "       [ 1.00000000e+00,  2.98626458e-01, -2.23675187e-01],\n",
       "       [ 1.00000000e+00,  7.12617934e-01,  1.09041654e+00],\n",
       "       [ 1.00000000e+00, -1.00752294e+00, -2.23675187e-01],\n",
       "       [ 1.00000000e+00, -1.44542274e+00, -1.53776691e+00],\n",
       "       [ 1.00000000e+00, -1.87089985e-01,  1.09041654e+00],\n",
       "       [ 1.00000000e+00, -1.00374794e+00, -2.23675187e-01]])"
      ]
     },
     "execution_count": 15,
     "metadata": {},
     "output_type": "execute_result"
    }
   ],
   "source": [
    "X"
   ]
  },
  {
   "cell_type": "code",
   "execution_count": 16,
   "id": "b8ef7437",
   "metadata": {
    "scrolled": true
   },
   "outputs": [
    {
     "data": {
      "text/plain": [
       "array([ 0.47574687, -0.08407444,  0.22862575, -0.86702453,  1.59538948,\n",
       "       -0.32399786, -0.20403615, -1.13094828, -1.02697347, -0.78305133,\n",
       "       -0.80305294,  0.05268191, -0.08328269,  2.87498104, -0.64389575,\n",
       "        0.87561923, -0.32399786, -1.12374258,  1.27627534,  2.06803861,\n",
       "       -0.69987788, -0.68308324, -0.77985235, -0.64389575,  1.86730269,\n",
       "       -0.72387022,  0.99238196,  1.02837047,  1.07635515, -0.32399786,\n",
       "        0.0758745 , -1.363666  , -0.20403615,  1.91528737, -0.43596212,\n",
       "       -0.72387022, -0.88381916,  0.03668701,  1.66816625, -0.42716493,\n",
       "        0.22462702, -0.08407444, -0.21123385, -0.33119556, -1.28369153,\n",
       "       -0.32399786, -0.80704367])"
      ]
     },
     "execution_count": 16,
     "metadata": {},
     "output_type": "execute_result"
    }
   ],
   "source": [
    "y"
   ]
  },
  {
   "cell_type": "code",
   "execution_count": 17,
   "id": "ee48ebc4",
   "metadata": {},
   "outputs": [
    {
     "data": {
      "text/plain": [
       "array([0, 0, 0])"
      ]
     },
     "execution_count": 17,
     "metadata": {},
     "output_type": "execute_result"
    }
   ],
   "source": [
    "theta"
   ]
  },
  {
   "cell_type": "code",
   "execution_count": 68,
   "id": "c806d3db",
   "metadata": {},
   "outputs": [],
   "source": [
    "alpha=0.1\n",
    "iters=1000"
   ]
  },
  {
   "cell_type": "markdown",
   "id": "35146854",
   "metadata": {},
   "source": [
    "## cost function"
   ]
  },
  {
   "cell_type": "code",
   "execution_count": 46,
   "id": "8361bc58",
   "metadata": {},
   "outputs": [],
   "source": [
    "m=len(y)\n",
    "def costfunction(X, y, theta):\n",
    "    j=np.sum((X.dot(theta)-y)**2)/2/m\n",
    "    return j"
   ]
  },
  {
   "cell_type": "code",
   "execution_count": 47,
   "id": "66929db0",
   "metadata": {},
   "outputs": [
    {
     "data": {
      "text/plain": [
       "0.4893617021276595"
      ]
     },
     "execution_count": 47,
     "metadata": {},
     "output_type": "execute_result"
    }
   ],
   "source": [
    "costfunction(X,y, theta)"
   ]
  },
  {
   "cell_type": "markdown",
   "id": "aec687f4",
   "metadata": {},
   "source": [
    "## GD function"
   ]
  },
  {
   "cell_type": "code",
   "execution_count": 69,
   "id": "92696c0c",
   "metadata": {},
   "outputs": [],
   "source": [
    "def GD(X, y, theta, alpha, iterations):\n",
    "    cost_history=np.zeros(iterations)\n",
    "    for iter in range(iterations):\n",
    "        hypothesis=X.dot(theta)\n",
    "        loss=hypothesis-y\n",
    "        gradient=X.T.dot(loss)/m\n",
    "        theta=theta-(alpha*gradient)\n",
    "        cost=costfunction(X,y,theta)\n",
    "        cost_history[iter]=cost\n",
    "    return theta,cost_history"
   ]
  },
  {
   "cell_type": "code",
   "execution_count": 70,
   "id": "94e097a4",
   "metadata": {},
   "outputs": [],
   "source": [
    "(g, cost)=GD(X, y, theta, alpha, iters)"
   ]
  },
  {
   "cell_type": "code",
   "execution_count": 66,
   "id": "81101aa1",
   "metadata": {},
   "outputs": [
    {
     "data": {
      "text/plain": [
       "array([-9.61405896e-17,  8.84765988e-01, -5.31788197e-02])"
      ]
     },
     "execution_count": 66,
     "metadata": {},
     "output_type": "execute_result"
    }
   ],
   "source": [
    "g"
   ]
  },
  {
   "cell_type": "code",
   "execution_count": 52,
   "id": "5f5d4a2c",
   "metadata": {
    "scrolled": true
   },
   "outputs": [
    {
     "data": {
      "text/plain": [
       "array([0.40693147, 0.34617152, 0.30110291, 0.26742183, 0.24202804,\n",
       "       0.22268634, 0.20778332, 0.19615275, 0.18695011, 0.17956245,\n",
       "       0.17354364, 0.16856787, 0.1643961 , 0.16085209, 0.15780504,\n",
       "       0.15515715, 0.15283462, 0.1507812 , 0.14895353, 0.14731772,\n",
       "       0.14584693, 0.14451959, 0.14331811, 0.14222795, 0.14123687,\n",
       "       0.14033451, 0.13951191, 0.13876131, 0.13807589, 0.13744961,\n",
       "       0.13687711, 0.13635356, 0.13587464, 0.13543646, 0.13503547,\n",
       "       0.13466846, 0.13433251, 0.13402498, 0.13374344, 0.13348567,\n",
       "       0.13324967, 0.13303358, 0.13283572, 0.13265455, 0.13248866,\n",
       "       0.13233675, 0.13219766, 0.13207029, 0.13195365, 0.13184685,\n",
       "       0.13174905, 0.1316595 , 0.13157749, 0.1315024 , 0.13143363,\n",
       "       0.13137066, 0.131313  , 0.1312602 , 0.13121184, 0.13116757,\n",
       "       0.13112702, 0.13108989, 0.13105589, 0.13102476, 0.13099625,\n",
       "       0.13097014, 0.13094623, 0.13092434, 0.1309043 , 0.13088594,\n",
       "       0.13086913, 0.13085373, 0.13083964, 0.13082673, 0.13081491,\n",
       "       0.13080409, 0.13079417, 0.1307851 , 0.13077679, 0.13076918,\n",
       "       0.13076221, 0.13075582, 0.13074998, 0.13074463, 0.13073973,\n",
       "       0.13073524, 0.13073113, 0.13072737, 0.13072392, 0.13072077,\n",
       "       0.13071788, 0.13071523, 0.13071281, 0.13071059, 0.13070856,\n",
       "       0.1307067 , 0.13070499, 0.13070343, 0.130702  , 0.1307007 ,\n",
       "       0.1306995 , 0.1306984 , 0.1306974 , 0.13069648, 0.13069563,\n",
       "       0.13069486, 0.13069416, 0.13069351, 0.13069292, 0.13069237,\n",
       "       0.13069188, 0.13069142, 0.13069101, 0.13069062, 0.13069028,\n",
       "       0.13068996, 0.13068966, 0.13068939, 0.13068915, 0.13068892,\n",
       "       0.13068872, 0.13068853, 0.13068836, 0.1306882 , 0.13068805,\n",
       "       0.13068792, 0.1306878 , 0.13068769, 0.13068759, 0.13068749,\n",
       "       0.13068741, 0.13068733, 0.13068726, 0.13068719, 0.13068713,\n",
       "       0.13068708, 0.13068703, 0.13068698, 0.13068694, 0.1306869 ,\n",
       "       0.13068687, 0.13068683, 0.1306868 , 0.13068678, 0.13068675,\n",
       "       0.13068673, 0.13068671, 0.13068669, 0.13068667, 0.13068665,\n",
       "       0.13068664, 0.13068663, 0.13068661, 0.1306866 , 0.13068659,\n",
       "       0.13068658, 0.13068657, 0.13068657, 0.13068656, 0.13068655,\n",
       "       0.13068655, 0.13068654, 0.13068654, 0.13068653, 0.13068653,\n",
       "       0.13068652, 0.13068652, 0.13068652, 0.13068651, 0.13068651,\n",
       "       0.13068651, 0.13068651, 0.1306865 , 0.1306865 , 0.1306865 ,\n",
       "       0.1306865 , 0.1306865 , 0.1306865 , 0.13068649, 0.13068649,\n",
       "       0.13068649, 0.13068649, 0.13068649, 0.13068649, 0.13068649,\n",
       "       0.13068649, 0.13068649, 0.13068649, 0.13068649, 0.13068649,\n",
       "       0.13068649, 0.13068648, 0.13068648, 0.13068648, 0.13068648,\n",
       "       0.13068648, 0.13068648, 0.13068648, 0.13068648, 0.13068648,\n",
       "       0.13068648, 0.13068648, 0.13068648, 0.13068648, 0.13068648,\n",
       "       0.13068648, 0.13068648, 0.13068648, 0.13068648, 0.13068648,\n",
       "       0.13068648, 0.13068648, 0.13068648, 0.13068648, 0.13068648,\n",
       "       0.13068648, 0.13068648, 0.13068648, 0.13068648, 0.13068648,\n",
       "       0.13068648, 0.13068648, 0.13068648, 0.13068648, 0.13068648,\n",
       "       0.13068648, 0.13068648, 0.13068648, 0.13068648, 0.13068648,\n",
       "       0.13068648, 0.13068648, 0.13068648, 0.13068648, 0.13068648,\n",
       "       0.13068648, 0.13068648, 0.13068648, 0.13068648, 0.13068648,\n",
       "       0.13068648, 0.13068648, 0.13068648, 0.13068648, 0.13068648,\n",
       "       0.13068648, 0.13068648, 0.13068648, 0.13068648, 0.13068648,\n",
       "       0.13068648, 0.13068648, 0.13068648, 0.13068648, 0.13068648,\n",
       "       0.13068648, 0.13068648, 0.13068648, 0.13068648, 0.13068648,\n",
       "       0.13068648, 0.13068648, 0.13068648, 0.13068648, 0.13068648,\n",
       "       0.13068648, 0.13068648, 0.13068648, 0.13068648, 0.13068648,\n",
       "       0.13068648, 0.13068648, 0.13068648, 0.13068648, 0.13068648,\n",
       "       0.13068648, 0.13068648, 0.13068648, 0.13068648, 0.13068648,\n",
       "       0.13068648, 0.13068648, 0.13068648, 0.13068648, 0.13068648,\n",
       "       0.13068648, 0.13068648, 0.13068648, 0.13068648, 0.13068648,\n",
       "       0.13068648, 0.13068648, 0.13068648, 0.13068648, 0.13068648,\n",
       "       0.13068648, 0.13068648, 0.13068648, 0.13068648, 0.13068648,\n",
       "       0.13068648, 0.13068648, 0.13068648, 0.13068648, 0.13068648,\n",
       "       0.13068648, 0.13068648, 0.13068648, 0.13068648, 0.13068648,\n",
       "       0.13068648, 0.13068648, 0.13068648, 0.13068648, 0.13068648,\n",
       "       0.13068648, 0.13068648, 0.13068648, 0.13068648, 0.13068648,\n",
       "       0.13068648, 0.13068648, 0.13068648, 0.13068648, 0.13068648,\n",
       "       0.13068648, 0.13068648, 0.13068648, 0.13068648, 0.13068648,\n",
       "       0.13068648, 0.13068648, 0.13068648, 0.13068648, 0.13068648,\n",
       "       0.13068648, 0.13068648, 0.13068648, 0.13068648, 0.13068648,\n",
       "       0.13068648, 0.13068648, 0.13068648, 0.13068648, 0.13068648,\n",
       "       0.13068648, 0.13068648, 0.13068648, 0.13068648, 0.13068648,\n",
       "       0.13068648, 0.13068648, 0.13068648, 0.13068648, 0.13068648,\n",
       "       0.13068648, 0.13068648, 0.13068648, 0.13068648, 0.13068648,\n",
       "       0.13068648, 0.13068648, 0.13068648, 0.13068648, 0.13068648,\n",
       "       0.13068648, 0.13068648, 0.13068648, 0.13068648, 0.13068648,\n",
       "       0.13068648, 0.13068648, 0.13068648, 0.13068648, 0.13068648,\n",
       "       0.13068648, 0.13068648, 0.13068648, 0.13068648, 0.13068648,\n",
       "       0.13068648, 0.13068648, 0.13068648, 0.13068648, 0.13068648,\n",
       "       0.13068648, 0.13068648, 0.13068648, 0.13068648, 0.13068648,\n",
       "       0.13068648, 0.13068648, 0.13068648, 0.13068648, 0.13068648,\n",
       "       0.13068648, 0.13068648, 0.13068648, 0.13068648, 0.13068648,\n",
       "       0.13068648, 0.13068648, 0.13068648, 0.13068648, 0.13068648,\n",
       "       0.13068648, 0.13068648, 0.13068648, 0.13068648, 0.13068648,\n",
       "       0.13068648, 0.13068648, 0.13068648, 0.13068648, 0.13068648,\n",
       "       0.13068648, 0.13068648, 0.13068648, 0.13068648, 0.13068648,\n",
       "       0.13068648, 0.13068648, 0.13068648, 0.13068648, 0.13068648,\n",
       "       0.13068648, 0.13068648, 0.13068648, 0.13068648, 0.13068648,\n",
       "       0.13068648, 0.13068648, 0.13068648, 0.13068648, 0.13068648,\n",
       "       0.13068648, 0.13068648, 0.13068648, 0.13068648, 0.13068648,\n",
       "       0.13068648, 0.13068648, 0.13068648, 0.13068648, 0.13068648,\n",
       "       0.13068648, 0.13068648, 0.13068648, 0.13068648, 0.13068648,\n",
       "       0.13068648, 0.13068648, 0.13068648, 0.13068648, 0.13068648,\n",
       "       0.13068648, 0.13068648, 0.13068648, 0.13068648, 0.13068648,\n",
       "       0.13068648, 0.13068648, 0.13068648, 0.13068648, 0.13068648,\n",
       "       0.13068648, 0.13068648, 0.13068648, 0.13068648, 0.13068648,\n",
       "       0.13068648, 0.13068648, 0.13068648, 0.13068648, 0.13068648,\n",
       "       0.13068648, 0.13068648, 0.13068648, 0.13068648, 0.13068648,\n",
       "       0.13068648, 0.13068648, 0.13068648, 0.13068648, 0.13068648,\n",
       "       0.13068648, 0.13068648, 0.13068648, 0.13068648, 0.13068648,\n",
       "       0.13068648, 0.13068648, 0.13068648, 0.13068648, 0.13068648,\n",
       "       0.13068648, 0.13068648, 0.13068648, 0.13068648, 0.13068648])"
      ]
     },
     "execution_count": 52,
     "metadata": {},
     "output_type": "execute_result"
    }
   ],
   "source": [
    "cost"
   ]
  },
  {
   "cell_type": "code",
   "execution_count": 71,
   "id": "ecd59781",
   "metadata": {},
   "outputs": [
    {
     "data": {
      "text/plain": [
       "0.13068648053904194"
      ]
     },
     "execution_count": 71,
     "metadata": {},
     "output_type": "execute_result"
    }
   ],
   "source": [
    "costfunction(X,y,g)"
   ]
  },
  {
   "cell_type": "code",
   "execution_count": 79,
   "id": "c3d03a9a",
   "metadata": {},
   "outputs": [],
   "source": [
    "x = np.linspace(data['Size'].min(), data['Size'].max(),100)\n",
    "f = g[0]+g[1]*x"
   ]
  },
  {
   "cell_type": "code",
   "execution_count": 85,
   "id": "6f9657bc",
   "metadata": {},
   "outputs": [
    {
     "data": {
      "text/plain": [
       "Text(0.5, 1.0, 'Size vs Price')"
      ]
     },
     "execution_count": 85,
     "metadata": {},
     "output_type": "execute_result"
    },
    {
     "data": {
      "image/png": "[encoded data removed]",
      "text/plain": [
       "<Figure size 360x360 with 1 Axes>"
      ]
     },
     "metadata": {
      "needs_background": "light"
     },
     "output_type": "display_data"
    }
   ],
   "source": [
    "fig, ax = plt.subplots(figsize=(5, 5))\n",
    "ax.plot(x, f, 'r', label='Production')\n",
    "ax.scatter(data['Size'], data['Price'], label='Traning data')\n",
    "ax.legend(loc=2)\n",
    "ax.set_xlabel('Size')\n",
    "ax.set_ylabel('Price')\n",
    "ax.set_title('Size vs Price')"
   ]
  },
  {
   "cell_type": "code",
   "execution_count": 88,
   "id": "23344d5d",
   "metadata": {},
   "outputs": [],
   "source": [
    "x = np.linspace(data['Bedrooms'].min(), data['Bedrooms'].max(),100)\n",
    "f = g[0]+g[1]*x"
   ]
  },
  {
   "cell_type": "code",
   "execution_count": 89,
   "id": "911cae17",
   "metadata": {},
   "outputs": [
    {
     "data": {
      "text/plain": [
       "Text(0.5, 1.0, 'Size vs Price')"
      ]
     },
     "execution_count": 89,
     "metadata": {},
     "output_type": "execute_result"
    },
    {
     "data": {
      "image/png": "[encoded data removed]",
      "text/plain": [
       "<Figure size 360x360 with 1 Axes>"
      ]
     },
     "metadata": {
      "needs_background": "light"
     },
     "output_type": "display_data"
    }
   ],
   "source": [
    "fig, ax = plt.subplots(figsize=(5, 5))\n",
    "ax.plot(x, f, 'r', label='Production')\n",
    "ax.scatter(data['Bedrooms'], data['Price'], label='Traning data')\n",
    "ax.legend(loc=2)\n",
    "ax.set_xlabel('Bedrooms')\n",
    "ax.set_ylabel('Price')\n",
    "ax.set_title('Size vs Price')"
   ]
  },
  {
   "cell_type": "markdown",
   "id": "76bdc7fb",
   "metadata": {},
   "source": [
    "## drow error graph"
   ]
  },
  {
   "cell_type": "code",
   "execution_count": 92,
   "id": "6850f480",
   "metadata": {},
   "outputs": [
    {
     "data": {
      "text/plain": [
       "Text(0.5, 1.0, 'Error vs. Traning epoch')"
      ]
     },
     "execution_count": 92,
     "metadata": {},
     "output_type": "execute_result"
    },
    {
     "data": {
      "image/png": "[encoded data removed]",
      "text/plain": [
       "<Figure size 360x360 with 1 Axes>"
      ]
     },
     "metadata": {
      "needs_background": "light"
     },
     "output_type": "display_data"
    }
   ],
   "source": [
    "fig, ax = plt.subplots(figsize=(5,5))\n",
    "ax.plot(np.arange(iters), cost, 'r')\n",
    "ax.set_xlabel('Iterations')\n",
    "ax.set_ylabel('Cost')\n",
    "ax.set_title('Error vs. Traning epoch')"
   ]
  },
  {
   "cell_type": "code",
   "execution_count": null,
   "id": "e4c3a5ef",
   "metadata": {},
   "outputs": [],
   "source": []
  }
 ],
 "metadata": {
  "kernelspec": {
   "display_name": "Python 3 (ipykernel)",
   "language": "python",
   "name": "python3"
  },
  "language_info": {
   "codemirror_mode": {
    "name": "ipython",
    "version": 3
   },
   "file_extension": ".py",
   "mimetype": "text/x-python",
   "name": "python",
   "nbconvert_exporter": "python",
   "pygments_lexer": "ipython3",
   "version": "3.10.3"
  }
 },
 "nbformat": 4,
 "nbformat_minor": 5
}
