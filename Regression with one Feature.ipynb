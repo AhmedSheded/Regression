{
 "cells": [
  {
   "cell_type": "code",
   "execution_count": 197,
   "id": "694744f2",
   "metadata": {},
   "outputs": [],
   "source": [
    "import numpy as np\n",
    "import pandas as pd\n",
    "import matplotlib.pyplot as plt"
   ]
  },
  {
   "cell_type": "code",
   "execution_count": 198,
   "id": "083c3f0b",
   "metadata": {},
   "outputs": [],
   "source": [
    "data = pd.read_csv('regrissiondata.txt', header=None, names=['Population', 'Profit'])"
   ]
  },
  {
   "cell_type": "code",
   "execution_count": 199,
   "id": "78f12e1e",
   "metadata": {},
   "outputs": [
    {
     "name": "stdout",
     "output_type": "stream",
     "text": [
      "<class 'pandas.core.frame.DataFrame'>\n",
      "RangeIndex: 97 entries, 0 to 96\n",
      "Data columns (total 2 columns):\n",
      " #   Column      Non-Null Count  Dtype  \n",
      "---  ------      --------------  -----  \n",
      " 0   Population  97 non-null     float64\n",
      " 1   Profit      97 non-null     float64\n",
      "dtypes: float64(2)\n",
      "memory usage: 1.6 KB\n"
     ]
    }
   ],
   "source": [
    "data.info()"
   ]
  },
  {
   "cell_type": "code",
   "execution_count": 200,
   "id": "826ef2d7",
   "metadata": {},
   "outputs": [
    {
     "data": {
      "text/html": [
       "<div>\n",
       "<style scoped>\n",
       "    .dataframe tbody tr th:only-of-type {\n",
       "        vertical-align: middle;\n",
       "    }\n",
       "\n",
       "    .dataframe tbody tr th {\n",
       "        vertical-align: top;\n",
       "    }\n",
       "\n",
       "    .dataframe thead th {\n",
       "        text-align: right;\n",
       "    }\n",
       "</style>\n",
       "<table border=\"1\" class=\"dataframe\">\n",
       "  <thead>\n",
       "    <tr style=\"text-align: right;\">\n",
       "      <th></th>\n",
       "      <th>Population</th>\n",
       "      <th>Profit</th>\n",
       "    </tr>\n",
       "  </thead>\n",
       "  <tbody>\n",
       "    <tr>\n",
       "      <th>0</th>\n",
       "      <td>6.1101</td>\n",
       "      <td>17.5920</td>\n",
       "    </tr>\n",
       "    <tr>\n",
       "      <th>1</th>\n",
       "      <td>5.5277</td>\n",
       "      <td>9.1302</td>\n",
       "    </tr>\n",
       "    <tr>\n",
       "      <th>2</th>\n",
       "      <td>8.5186</td>\n",
       "      <td>13.6620</td>\n",
       "    </tr>\n",
       "    <tr>\n",
       "      <th>3</th>\n",
       "      <td>7.0032</td>\n",
       "      <td>11.8540</td>\n",
       "    </tr>\n",
       "    <tr>\n",
       "      <th>4</th>\n",
       "      <td>5.8598</td>\n",
       "      <td>6.8233</td>\n",
       "    </tr>\n",
       "    <tr>\n",
       "      <th>5</th>\n",
       "      <td>8.3829</td>\n",
       "      <td>11.8860</td>\n",
       "    </tr>\n",
       "    <tr>\n",
       "      <th>6</th>\n",
       "      <td>7.4764</td>\n",
       "      <td>4.3483</td>\n",
       "    </tr>\n",
       "    <tr>\n",
       "      <th>7</th>\n",
       "      <td>8.5781</td>\n",
       "      <td>12.0000</td>\n",
       "    </tr>\n",
       "    <tr>\n",
       "      <th>8</th>\n",
       "      <td>6.4862</td>\n",
       "      <td>6.5987</td>\n",
       "    </tr>\n",
       "    <tr>\n",
       "      <th>9</th>\n",
       "      <td>5.0546</td>\n",
       "      <td>3.8166</td>\n",
       "    </tr>\n",
       "  </tbody>\n",
       "</table>\n",
       "</div>"
      ],
      "text/plain": [
       "   Population   Profit\n",
       "0      6.1101  17.5920\n",
       "1      5.5277   9.1302\n",
       "2      8.5186  13.6620\n",
       "3      7.0032  11.8540\n",
       "4      5.8598   6.8233\n",
       "5      8.3829  11.8860\n",
       "6      7.4764   4.3483\n",
       "7      8.5781  12.0000\n",
       "8      6.4862   6.5987\n",
       "9      5.0546   3.8166"
      ]
     },
     "execution_count": 200,
     "metadata": {},
     "output_type": "execute_result"
    }
   ],
   "source": [
    "data.head(10)"
   ]
  },
  {
   "cell_type": "code",
   "execution_count": 201,
   "id": "5892dc43",
   "metadata": {},
   "outputs": [
    {
     "data": {
      "text/html": [
       "<div>\n",
       "<style scoped>\n",
       "    .dataframe tbody tr th:only-of-type {\n",
       "        vertical-align: middle;\n",
       "    }\n",
       "\n",
       "    .dataframe tbody tr th {\n",
       "        vertical-align: top;\n",
       "    }\n",
       "\n",
       "    .dataframe thead th {\n",
       "        text-align: right;\n",
       "    }\n",
       "</style>\n",
       "<table border=\"1\" class=\"dataframe\">\n",
       "  <thead>\n",
       "    <tr style=\"text-align: right;\">\n",
       "      <th></th>\n",
       "      <th>Population</th>\n",
       "      <th>Profit</th>\n",
       "    </tr>\n",
       "  </thead>\n",
       "  <tbody>\n",
       "    <tr>\n",
       "      <th>count</th>\n",
       "      <td>97.000000</td>\n",
       "      <td>97.000000</td>\n",
       "    </tr>\n",
       "    <tr>\n",
       "      <th>mean</th>\n",
       "      <td>8.159800</td>\n",
       "      <td>5.839135</td>\n",
       "    </tr>\n",
       "    <tr>\n",
       "      <th>std</th>\n",
       "      <td>3.869884</td>\n",
       "      <td>5.510262</td>\n",
       "    </tr>\n",
       "    <tr>\n",
       "      <th>min</th>\n",
       "      <td>5.026900</td>\n",
       "      <td>-2.680700</td>\n",
       "    </tr>\n",
       "    <tr>\n",
       "      <th>25%</th>\n",
       "      <td>5.707700</td>\n",
       "      <td>1.986900</td>\n",
       "    </tr>\n",
       "    <tr>\n",
       "      <th>50%</th>\n",
       "      <td>6.589400</td>\n",
       "      <td>4.562300</td>\n",
       "    </tr>\n",
       "    <tr>\n",
       "      <th>75%</th>\n",
       "      <td>8.578100</td>\n",
       "      <td>7.046700</td>\n",
       "    </tr>\n",
       "    <tr>\n",
       "      <th>max</th>\n",
       "      <td>22.203000</td>\n",
       "      <td>24.147000</td>\n",
       "    </tr>\n",
       "  </tbody>\n",
       "</table>\n",
       "</div>"
      ],
      "text/plain": [
       "       Population     Profit\n",
       "count   97.000000  97.000000\n",
       "mean     8.159800   5.839135\n",
       "std      3.869884   5.510262\n",
       "min      5.026900  -2.680700\n",
       "25%      5.707700   1.986900\n",
       "50%      6.589400   4.562300\n",
       "75%      8.578100   7.046700\n",
       "max     22.203000  24.147000"
      ]
     },
     "execution_count": 201,
     "metadata": {},
     "output_type": "execute_result"
    }
   ],
   "source": [
    "data.describe()"
   ]
  },
  {
   "cell_type": "code",
   "execution_count": 202,
   "id": "d4d1ef65",
   "metadata": {},
   "outputs": [
    {
     "data": {
      "text/plain": [
       "<AxesSubplot:xlabel='Population', ylabel='Profit'>"
      ]
     },
     "execution_count": 202,
     "metadata": {},
     "output_type": "execute_result"
    },
    {
     "data": {
      "image/png": "[encoded data removed]",
      "text/plain": [
       "<Figure size 360x360 with 1 Axes>"
      ]
     },
     "metadata": {
      "needs_background": "light"
     },
     "output_type": "display_data"
    }
   ],
   "source": [
    "data.plot(kind='scatter', x='Population', y='Profit', figsize=(5, 5))"
   ]
  },
  {
   "cell_type": "code",
   "execution_count": 203,
   "id": "d659b9aa",
   "metadata": {},
   "outputs": [],
   "source": [
    "data.insert(0,'ones', 1)"
   ]
  },
  {
   "cell_type": "code",
   "execution_count": 204,
   "id": "b2582700",
   "metadata": {},
   "outputs": [
    {
     "data": {
      "text/html": [
       "<div>\n",
       "<style scoped>\n",
       "    .dataframe tbody tr th:only-of-type {\n",
       "        vertical-align: middle;\n",
       "    }\n",
       "\n",
       "    .dataframe tbody tr th {\n",
       "        vertical-align: top;\n",
       "    }\n",
       "\n",
       "    .dataframe thead th {\n",
       "        text-align: right;\n",
       "    }\n",
       "</style>\n",
       "<table border=\"1\" class=\"dataframe\">\n",
       "  <thead>\n",
       "    <tr style=\"text-align: right;\">\n",
       "      <th></th>\n",
       "      <th>ones</th>\n",
       "      <th>Population</th>\n",
       "      <th>Profit</th>\n",
       "    </tr>\n",
       "  </thead>\n",
       "  <tbody>\n",
       "    <tr>\n",
       "      <th>0</th>\n",
       "      <td>1</td>\n",
       "      <td>6.1101</td>\n",
       "      <td>17.5920</td>\n",
       "    </tr>\n",
       "    <tr>\n",
       "      <th>1</th>\n",
       "      <td>1</td>\n",
       "      <td>5.5277</td>\n",
       "      <td>9.1302</td>\n",
       "    </tr>\n",
       "    <tr>\n",
       "      <th>2</th>\n",
       "      <td>1</td>\n",
       "      <td>8.5186</td>\n",
       "      <td>13.6620</td>\n",
       "    </tr>\n",
       "    <tr>\n",
       "      <th>3</th>\n",
       "      <td>1</td>\n",
       "      <td>7.0032</td>\n",
       "      <td>11.8540</td>\n",
       "    </tr>\n",
       "    <tr>\n",
       "      <th>4</th>\n",
       "      <td>1</td>\n",
       "      <td>5.8598</td>\n",
       "      <td>6.8233</td>\n",
       "    </tr>\n",
       "  </tbody>\n",
       "</table>\n",
       "</div>"
      ],
      "text/plain": [
       "   ones  Population   Profit\n",
       "0     1      6.1101  17.5920\n",
       "1     1      5.5277   9.1302\n",
       "2     1      8.5186  13.6620\n",
       "3     1      7.0032  11.8540\n",
       "4     1      5.8598   6.8233"
      ]
     },
     "execution_count": 204,
     "metadata": {},
     "output_type": "execute_result"
    }
   ],
   "source": [
    "data.head()"
   ]
  },
  {
   "cell_type": "code",
   "execution_count": 205,
   "id": "be48f349",
   "metadata": {},
   "outputs": [],
   "source": [
    "# seprate X (traning data) from y (target varible)\n",
    "X = data.drop('Profit', axis=1)\n",
    "y = data['Profit']"
   ]
  },
  {
   "cell_type": "code",
   "execution_count": 206,
   "id": "64159c02",
   "metadata": {},
   "outputs": [
    {
     "data": {
      "text/html": [
       "<div>\n",
       "<style scoped>\n",
       "    .dataframe tbody tr th:only-of-type {\n",
       "        vertical-align: middle;\n",
       "    }\n",
       "\n",
       "    .dataframe tbody tr th {\n",
       "        vertical-align: top;\n",
       "    }\n",
       "\n",
       "    .dataframe thead th {\n",
       "        text-align: right;\n",
       "    }\n",
       "</style>\n",
       "<table border=\"1\" class=\"dataframe\">\n",
       "  <thead>\n",
       "    <tr style=\"text-align: right;\">\n",
       "      <th></th>\n",
       "      <th>ones</th>\n",
       "      <th>Population</th>\n",
       "    </tr>\n",
       "  </thead>\n",
       "  <tbody>\n",
       "    <tr>\n",
       "      <th>0</th>\n",
       "      <td>1</td>\n",
       "      <td>6.1101</td>\n",
       "    </tr>\n",
       "    <tr>\n",
       "      <th>1</th>\n",
       "      <td>1</td>\n",
       "      <td>5.5277</td>\n",
       "    </tr>\n",
       "    <tr>\n",
       "      <th>2</th>\n",
       "      <td>1</td>\n",
       "      <td>8.5186</td>\n",
       "    </tr>\n",
       "    <tr>\n",
       "      <th>3</th>\n",
       "      <td>1</td>\n",
       "      <td>7.0032</td>\n",
       "    </tr>\n",
       "    <tr>\n",
       "      <th>4</th>\n",
       "      <td>1</td>\n",
       "      <td>5.8598</td>\n",
       "    </tr>\n",
       "    <tr>\n",
       "      <th>...</th>\n",
       "      <td>...</td>\n",
       "      <td>...</td>\n",
       "    </tr>\n",
       "    <tr>\n",
       "      <th>92</th>\n",
       "      <td>1</td>\n",
       "      <td>5.8707</td>\n",
       "    </tr>\n",
       "    <tr>\n",
       "      <th>93</th>\n",
       "      <td>1</td>\n",
       "      <td>5.3054</td>\n",
       "    </tr>\n",
       "    <tr>\n",
       "      <th>94</th>\n",
       "      <td>1</td>\n",
       "      <td>8.2934</td>\n",
       "    </tr>\n",
       "    <tr>\n",
       "      <th>95</th>\n",
       "      <td>1</td>\n",
       "      <td>13.3940</td>\n",
       "    </tr>\n",
       "    <tr>\n",
       "      <th>96</th>\n",
       "      <td>1</td>\n",
       "      <td>5.4369</td>\n",
       "    </tr>\n",
       "  </tbody>\n",
       "</table>\n",
       "<p>97 rows × 2 columns</p>\n",
       "</div>"
      ],
      "text/plain": [
       "    ones  Population\n",
       "0      1      6.1101\n",
       "1      1      5.5277\n",
       "2      1      8.5186\n",
       "3      1      7.0032\n",
       "4      1      5.8598\n",
       "..   ...         ...\n",
       "92     1      5.8707\n",
       "93     1      5.3054\n",
       "94     1      8.2934\n",
       "95     1     13.3940\n",
       "96     1      5.4369\n",
       "\n",
       "[97 rows x 2 columns]"
      ]
     },
     "execution_count": 206,
     "metadata": {},
     "output_type": "execute_result"
    }
   ],
   "source": [
    "X"
   ]
  },
  {
   "cell_type": "code",
   "execution_count": 207,
   "id": "2fcdaf36",
   "metadata": {},
   "outputs": [],
   "source": [
    "X = np.array(X)\n",
    "y = np.array(y)\n",
    "theta = np.array([0,0])"
   ]
  },
  {
   "cell_type": "code",
   "execution_count": 208,
   "id": "f887a385",
   "metadata": {
    "scrolled": true
   },
   "outputs": [
    {
     "data": {
      "text/plain": [
       "array([[ 1.    ,  6.1101],\n",
       "       [ 1.    ,  5.5277],\n",
       "       [ 1.    ,  8.5186],\n",
       "       [ 1.    ,  7.0032],\n",
       "       [ 1.    ,  5.8598],\n",
       "       [ 1.    ,  8.3829],\n",
       "       [ 1.    ,  7.4764],\n",
       "       [ 1.    ,  8.5781],\n",
       "       [ 1.    ,  6.4862],\n",
       "       [ 1.    ,  5.0546],\n",
       "       [ 1.    ,  5.7107],\n",
       "       [ 1.    , 14.164 ],\n",
       "       [ 1.    ,  5.734 ],\n",
       "       [ 1.    ,  8.4084],\n",
       "       [ 1.    ,  5.6407],\n",
       "       [ 1.    ,  5.3794],\n",
       "       [ 1.    ,  6.3654],\n",
       "       [ 1.    ,  5.1301],\n",
       "       [ 1.    ,  6.4296],\n",
       "       [ 1.    ,  7.0708],\n",
       "       [ 1.    ,  6.1891],\n",
       "       [ 1.    , 20.27  ],\n",
       "       [ 1.    ,  5.4901],\n",
       "       [ 1.    ,  6.3261],\n",
       "       [ 1.    ,  5.5649],\n",
       "       [ 1.    , 18.945 ],\n",
       "       [ 1.    , 12.828 ],\n",
       "       [ 1.    , 10.957 ],\n",
       "       [ 1.    , 13.176 ],\n",
       "       [ 1.    , 22.203 ],\n",
       "       [ 1.    ,  5.2524],\n",
       "       [ 1.    ,  6.5894],\n",
       "       [ 1.    ,  9.2482],\n",
       "       [ 1.    ,  5.8918],\n",
       "       [ 1.    ,  8.2111],\n",
       "       [ 1.    ,  7.9334],\n",
       "       [ 1.    ,  8.0959],\n",
       "       [ 1.    ,  5.6063],\n",
       "       [ 1.    , 12.836 ],\n",
       "       [ 1.    ,  6.3534],\n",
       "       [ 1.    ,  5.4069],\n",
       "       [ 1.    ,  6.8825],\n",
       "       [ 1.    , 11.708 ],\n",
       "       [ 1.    ,  5.7737],\n",
       "       [ 1.    ,  7.8247],\n",
       "       [ 1.    ,  7.0931],\n",
       "       [ 1.    ,  5.0702],\n",
       "       [ 1.    ,  5.8014],\n",
       "       [ 1.    , 11.7   ],\n",
       "       [ 1.    ,  5.5416],\n",
       "       [ 1.    ,  7.5402],\n",
       "       [ 1.    ,  5.3077],\n",
       "       [ 1.    ,  7.4239],\n",
       "       [ 1.    ,  7.6031],\n",
       "       [ 1.    ,  6.3328],\n",
       "       [ 1.    ,  6.3589],\n",
       "       [ 1.    ,  6.2742],\n",
       "       [ 1.    ,  5.6397],\n",
       "       [ 1.    ,  9.3102],\n",
       "       [ 1.    ,  9.4536],\n",
       "       [ 1.    ,  8.8254],\n",
       "       [ 1.    ,  5.1793],\n",
       "       [ 1.    , 21.279 ],\n",
       "       [ 1.    , 14.908 ],\n",
       "       [ 1.    , 18.959 ],\n",
       "       [ 1.    ,  7.2182],\n",
       "       [ 1.    ,  8.2951],\n",
       "       [ 1.    , 10.236 ],\n",
       "       [ 1.    ,  5.4994],\n",
       "       [ 1.    , 20.341 ],\n",
       "       [ 1.    , 10.136 ],\n",
       "       [ 1.    ,  7.3345],\n",
       "       [ 1.    ,  6.0062],\n",
       "       [ 1.    ,  7.2259],\n",
       "       [ 1.    ,  5.0269],\n",
       "       [ 1.    ,  6.5479],\n",
       "       [ 1.    ,  7.5386],\n",
       "       [ 1.    ,  5.0365],\n",
       "       [ 1.    , 10.274 ],\n",
       "       [ 1.    ,  5.1077],\n",
       "       [ 1.    ,  5.7292],\n",
       "       [ 1.    ,  5.1884],\n",
       "       [ 1.    ,  6.3557],\n",
       "       [ 1.    ,  9.7687],\n",
       "       [ 1.    ,  6.5159],\n",
       "       [ 1.    ,  8.5172],\n",
       "       [ 1.    ,  9.1802],\n",
       "       [ 1.    ,  6.002 ],\n",
       "       [ 1.    ,  5.5204],\n",
       "       [ 1.    ,  5.0594],\n",
       "       [ 1.    ,  5.7077],\n",
       "       [ 1.    ,  7.6366],\n",
       "       [ 1.    ,  5.8707],\n",
       "       [ 1.    ,  5.3054],\n",
       "       [ 1.    ,  8.2934],\n",
       "       [ 1.    , 13.394 ],\n",
       "       [ 1.    ,  5.4369]])"
      ]
     },
     "execution_count": 208,
     "metadata": {},
     "output_type": "execute_result"
    }
   ],
   "source": [
    "X"
   ]
  },
  {
   "cell_type": "markdown",
   "id": "d2ec8ede",
   "metadata": {},
   "source": [
    "## cost function"
   ]
  },
  {
   "cell_type": "code",
   "execution_count": 209,
   "id": "f49d6124",
   "metadata": {},
   "outputs": [],
   "source": [
    "m=len(y)\n",
    "def costfunction(X, y, theta):\n",
    "    j=np.sum((X.dot(theta)-y)**2)/2/m\n",
    "    return j"
   ]
  },
  {
   "cell_type": "code",
   "execution_count": 210,
   "id": "97000e20",
   "metadata": {},
   "outputs": [
    {
     "data": {
      "text/plain": [
       "(2, 97)"
      ]
     },
     "execution_count": 210,
     "metadata": {},
     "output_type": "execute_result"
    }
   ],
   "source": [
    "X.T.shape"
   ]
  },
  {
   "cell_type": "code",
   "execution_count": 211,
   "id": "9bc2a504",
   "metadata": {},
   "outputs": [
    {
     "data": {
      "text/plain": [
       "32.072733877455676"
      ]
     },
     "execution_count": 211,
     "metadata": {},
     "output_type": "execute_result"
    }
   ],
   "source": [
    "costfunction(X,y, theta)"
   ]
  },
  {
   "cell_type": "markdown",
   "id": "52a0d3f6",
   "metadata": {},
   "source": [
    "## GD function"
   ]
  },
  {
   "cell_type": "code",
   "execution_count": 212,
   "id": "85f49595",
   "metadata": {},
   "outputs": [],
   "source": [
    "def GD(X, y, theta, alpha, iterations):\n",
    "    cost_history=np.zeros(iterations)\n",
    "    for iter in range(iterations):\n",
    "        hypothesis=X.dot(theta)\n",
    "        loss=hypothesis-y\n",
    "        gradient=X.T.dot(loss)/m\n",
    "        theta=theta-(alpha*gradient)\n",
    "        cost=costfunction(X,y,theta)\n",
    "        cost_history[iter]=cost\n",
    "    return theta,cost_history"
   ]
  },
  {
   "cell_type": "code",
   "execution_count": 213,
   "id": "b105bb22",
   "metadata": {},
   "outputs": [],
   "source": [
    "(g, cost)=GD(X, y, theta, 0.01, 1000)"
   ]
  },
  {
   "cell_type": "code",
   "execution_count": 214,
   "id": "304d564a",
   "metadata": {},
   "outputs": [
    {
     "data": {
      "text/plain": [
       "array([-3.24140214,  1.1272942 ])"
      ]
     },
     "execution_count": 214,
     "metadata": {},
     "output_type": "execute_result"
    }
   ],
   "source": [
    "g"
   ]
  },
  {
   "cell_type": "code",
   "execution_count": 215,
   "id": "37e65313",
   "metadata": {
    "scrolled": true
   },
   "outputs": [
    {
     "data": {
      "text/plain": [
       "array([6.73719046, 5.93159357, 5.90115471, 5.89522859, 5.89009494,\n",
       "       5.88500416, 5.87993248, 5.87487909, 5.86984391, 5.86482687,\n",
       "       5.85982789, 5.85484692, 5.84988389, 5.84493874, 5.8400114 ,\n",
       "       5.83510181, 5.8302099 , 5.82533562, 5.82047889, 5.81563965,\n",
       "       5.81081784, 5.8060134 , 5.80122627, 5.79645638, 5.79170367,\n",
       "       5.78696808, 5.78224955, 5.77754801, 5.77286341, 5.76819568,\n",
       "       5.76354477, 5.75891061, 5.75429313, 5.7496923 , 5.74510803,\n",
       "       5.74054027, 5.73598897, 5.73145406, 5.72693549, 5.72243319,\n",
       "       5.71794711, 5.71347718, 5.70902336, 5.70458558, 5.70016379,\n",
       "       5.69575792, 5.69136792, 5.68699373, 5.6826353 , 5.67829257,\n",
       "       5.67396548, 5.66965398, 5.665358  , 5.6610775 , 5.65681242,\n",
       "       5.6525627 , 5.64832829, 5.64410913, 5.63990517, 5.63571635,\n",
       "       5.63154261, 5.62738391, 5.6232402 , 5.6191114 , 5.61499748,\n",
       "       5.61089837, 5.60681403, 5.60274441, 5.59868944, 5.59464907,\n",
       "       5.59062326, 5.58661195, 5.58261509, 5.57863263, 5.57466451,\n",
       "       5.57071068, 5.56677109, 5.5628457 , 5.55893444, 5.55503727,\n",
       "       5.55115414, 5.547285  , 5.54342979, 5.53958847, 5.53576098,\n",
       "       5.53194728, 5.52814732, 5.52436105, 5.52058841, 5.51682936,\n",
       "       5.51308385, 5.50935183, 5.50563326, 5.50192808, 5.49823624,\n",
       "       5.49455771, 5.49089242, 5.48724033, 5.4836014 , 5.47997558,\n",
       "       5.47636282, 5.47276307, 5.46917628, 5.46560242, 5.46204143,\n",
       "       5.45849326, 5.45495788, 5.45143522, 5.44792526, 5.44442794,\n",
       "       5.44094322, 5.43747105, 5.43401138, 5.43056418, 5.42712939,\n",
       "       5.42370698, 5.42029689, 5.41689909, 5.41351352, 5.41014015,\n",
       "       5.40677893, 5.40342982, 5.40009277, 5.39676774, 5.39345469,\n",
       "       5.39015357, 5.38686434, 5.38358696, 5.38032138, 5.37706756,\n",
       "       5.37382547, 5.37059505, 5.36737627, 5.36416908, 5.36097345,\n",
       "       5.35778933, 5.35461667, 5.35145544, 5.3483056 , 5.34516711,\n",
       "       5.34203991, 5.33892399, 5.33581928, 5.33272576, 5.32964339,\n",
       "       5.32657211, 5.3235119 , 5.32046271, 5.3174245 , 5.31439724,\n",
       "       5.31138088, 5.30837538, 5.30538071, 5.30239683, 5.2994237 ,\n",
       "       5.29646127, 5.29350951, 5.29056839, 5.28763786, 5.28471789,\n",
       "       5.28180843, 5.27890945, 5.27602092, 5.27314279, 5.27027503,\n",
       "       5.26741759, 5.26457045, 5.26173356, 5.2589069 , 5.25609041,\n",
       "       5.25328407, 5.25048783, 5.24770167, 5.24492555, 5.24215942,\n",
       "       5.23940326, 5.23665702, 5.23392068, 5.23119419, 5.22847752,\n",
       "       5.22577064, 5.22307351, 5.22038609, 5.21770835, 5.21504026,\n",
       "       5.21238178, 5.20973288, 5.20709351, 5.20446365, 5.20184327,\n",
       "       5.19923232, 5.19663078, 5.19403861, 5.19145577, 5.18888224,\n",
       "       5.18631798, 5.18376295, 5.18121713, 5.17868048, 5.17615296,\n",
       "       5.17363455, 5.17112521, 5.16862491, 5.16613361, 5.16365129,\n",
       "       5.16117791, 5.15871344, 5.15625784, 5.15381109, 5.15137315,\n",
       "       5.148944  , 5.14652359, 5.1441119 , 5.1417089 , 5.13931455,\n",
       "       5.13692883, 5.1345517 , 5.13218314, 5.1298231 , 5.12747157,\n",
       "       5.1251285 , 5.12279388, 5.12046766, 5.11814983, 5.11584034,\n",
       "       5.11353917, 5.11124629, 5.10896167, 5.10668527, 5.10441708,\n",
       "       5.10215706, 5.09990518, 5.0976614 , 5.09542571, 5.09319808,\n",
       "       5.09097846, 5.08876685, 5.08656319, 5.08436748, 5.08217967,\n",
       "       5.07999975, 5.07782768, 5.07566343, 5.07350697, 5.07135828,\n",
       "       5.06921734, 5.0670841 , 5.06495855, 5.06284065, 5.06073039,\n",
       "       5.05862772, 5.05653263, 5.05444508, 5.05236505, 5.05029252,\n",
       "       5.04822745, 5.04616982, 5.0441196 , 5.04207676, 5.04004129,\n",
       "       5.03801314, 5.0359923 , 5.03397874, 5.03197243, 5.02997335,\n",
       "       5.02798147, 5.02599676, 5.0240192 , 5.02204877, 5.02008543,\n",
       "       5.01812917, 5.01617995, 5.01423775, 5.01230255, 5.01037431,\n",
       "       5.00845303, 5.00653866, 5.00463119, 5.00273059, 5.00083684,\n",
       "       4.9989499 , 4.99706977, 4.9951964 , 4.99332979, 4.99146989,\n",
       "       4.9896167 , 4.98777018, 4.98593031, 4.98409707, 4.98227043,\n",
       "       4.98045038, 4.97863687, 4.9768299 , 4.97502944, 4.97323547,\n",
       "       4.97144795, 4.96966687, 4.96789221, 4.96612395, 4.96436205,\n",
       "       4.96260649, 4.96085726, 4.95911433, 4.95737768, 4.95564729,\n",
       "       4.95392312, 4.95220517, 4.95049341, 4.94878781, 4.94708835,\n",
       "       4.94539502, 4.94370778, 4.94202663, 4.94035152, 4.93868246,\n",
       "       4.9370194 , 4.93536233, 4.93371123, 4.93206608, 4.93042686,\n",
       "       4.92879354, 4.9271661 , 4.92554453, 4.92392879, 4.92231888,\n",
       "       4.92071476, 4.91911642, 4.91752384, 4.915937  , 4.91435587,\n",
       "       4.91278043, 4.91121067, 4.90964657, 4.9080881 , 4.90653524,\n",
       "       4.90498798, 4.90344629, 4.90191015, 4.90037954, 4.89885445,\n",
       "       4.89733485, 4.89582073, 4.89431206, 4.89280882, 4.891311  ,\n",
       "       4.88981857, 4.88833152, 4.88684982, 4.88537346, 4.88390242,\n",
       "       4.88243668, 4.88097622, 4.87952102, 4.87807106, 4.87662632,\n",
       "       4.87518678, 4.87375243, 4.87232325, 4.87089922, 4.86948031,\n",
       "       4.86806652, 4.86665782, 4.86525419, 4.86385562, 4.86246208,\n",
       "       4.86107357, 4.85969005, 4.85831152, 4.85693796, 4.85556934,\n",
       "       4.85420565, 4.85284687, 4.85149299, 4.85014399, 4.84879984,\n",
       "       4.84746054, 4.84612606, 4.84479638, 4.8434715 , 4.84215138,\n",
       "       4.84083603, 4.83952541, 4.83821951, 4.83691831, 4.83562181,\n",
       "       4.83432997, 4.83304278, 4.83176023, 4.83048231, 4.82920898,\n",
       "       4.82794024, 4.82667607, 4.82541645, 4.82416138, 4.82291082,\n",
       "       4.82166476, 4.8204232 , 4.8191861 , 4.81795347, 4.81672527,\n",
       "       4.81550149, 4.81428213, 4.81306715, 4.81185656, 4.81065032,\n",
       "       4.80944843, 4.80825086, 4.80705761, 4.80586866, 4.80468399,\n",
       "       4.80350359, 4.80232744, 4.80115553, 4.79998784, 4.79882435,\n",
       "       4.79766505, 4.79650993, 4.79535897, 4.79421216, 4.79306948,\n",
       "       4.79193091, 4.79079644, 4.78966606, 4.78853976, 4.7874175 ,\n",
       "       4.7862993 , 4.78518511, 4.78407495, 4.78296878, 4.78186659,\n",
       "       4.78076838, 4.77967412, 4.7785838 , 4.77749741, 4.77641493,\n",
       "       4.77533635, 4.77426166, 4.77319084, 4.77212387, 4.77106075,\n",
       "       4.77000146, 4.76894598, 4.7678943 , 4.76684642, 4.7658023 ,\n",
       "       4.76476195, 4.76372535, 4.76269247, 4.76166332, 4.76063788,\n",
       "       4.75961613, 4.75859806, 4.75758366, 4.75657291, 4.7555658 ,\n",
       "       4.75456232, 4.75356245, 4.75256619, 4.75157351, 4.75058441,\n",
       "       4.74959887, 4.74861688, 4.74763843, 4.7466635 , 4.74569209,\n",
       "       4.74472417, 4.74375974, 4.74279878, 4.74184129, 4.74088724,\n",
       "       4.73993663, 4.73898945, 4.73804567, 4.7371053 , 4.73616831,\n",
       "       4.7352347 , 4.73430445, 4.73337755, 4.73245399, 4.73153376,\n",
       "       4.73061684, 4.72970322, 4.7287929 , 4.72788585, 4.72698207,\n",
       "       4.72608155, 4.72518427, 4.72429022, 4.72339939, 4.72251177,\n",
       "       4.72162735, 4.72074611, 4.71986805, 4.71899315, 4.7181214 ,\n",
       "       4.71725279, 4.71638731, 4.71552495, 4.71466569, 4.71380953,\n",
       "       4.71295645, 4.71210645, 4.71125951, 4.71041561, 4.70957476,\n",
       "       4.70873694, 4.70790213, 4.70707033, 4.70624153, 4.70541571,\n",
       "       4.70459287, 4.70377299, 4.70295606, 4.70214208, 4.70133103,\n",
       "       4.7005229 , 4.69971768, 4.69891536, 4.69811593, 4.69731938,\n",
       "       4.6965257 , 4.69573487, 4.6949469 , 4.69416177, 4.69337946,\n",
       "       4.69259997, 4.69182329, 4.6910494 , 4.69027831, 4.68950999,\n",
       "       4.68874444, 4.68798164, 4.68722159, 4.68646428, 4.6857097 ,\n",
       "       4.68495784, 4.68420868, 4.68346223, 4.68271846, 4.68197737,\n",
       "       4.68123895, 4.68050319, 4.67977008, 4.67903961, 4.67831177,\n",
       "       4.67758656, 4.67686395, 4.67614395, 4.67542654, 4.67471172,\n",
       "       4.67399947, 4.67328979, 4.67258266, 4.67187808, 4.67117604,\n",
       "       4.67047652, 4.66977953, 4.66908504, 4.66839306, 4.66770357,\n",
       "       4.66701656, 4.66633203, 4.66564997, 4.66497036, 4.6642932 ,\n",
       "       4.66361847, 4.66294618, 4.66227631, 4.66160885, 4.6609438 ,\n",
       "       4.66028114, 4.65962087, 4.65896298, 4.65830745, 4.65765429,\n",
       "       4.65700348, 4.65635502, 4.65570889, 4.65506509, 4.6544236 ,\n",
       "       4.65378443, 4.65314756, 4.65251298, 4.65188069, 4.65125068,\n",
       "       4.65062293, 4.64999745, 4.64937422, 4.64875324, 4.64813449,\n",
       "       4.64751797, 4.64690367, 4.64629158, 4.6456817 , 4.64507402,\n",
       "       4.64446852, 4.64386521, 4.64326406, 4.64266509, 4.64206827,\n",
       "       4.6414736 , 4.64088107, 4.64029068, 4.63970241, 4.63911626,\n",
       "       4.63853223, 4.63795029, 4.63737046, 4.63679271, 4.63621704,\n",
       "       4.63564345, 4.63507192, 4.63450245, 4.63393503, 4.63336966,\n",
       "       4.63280632, 4.63224501, 4.63168573, 4.63112845, 4.63057319,\n",
       "       4.63001992, 4.62946865, 4.62891937, 4.62837206, 4.62782672,\n",
       "       4.62728335, 4.62674193, 4.62620247, 4.62566495, 4.62512936,\n",
       "       4.62459571, 4.62406397, 4.62353415, 4.62300624, 4.62248023,\n",
       "       4.62195612, 4.62143389, 4.62091355, 4.62039507, 4.61987847,\n",
       "       4.61936373, 4.61885084, 4.6183398 , 4.6178306 , 4.61732323,\n",
       "       4.61681769, 4.61631397, 4.61581207, 4.61531197, 4.61481368,\n",
       "       4.61431718, 4.61382246, 4.61332954, 4.61283838, 4.612349  ,\n",
       "       4.61186137, 4.61137551, 4.61089139, 4.61040902, 4.60992838,\n",
       "       4.60944948, 4.6089723 , 4.60849684, 4.6080231 , 4.60755106,\n",
       "       4.60708071, 4.60661207, 4.60614511, 4.60567983, 4.60521623,\n",
       "       4.6047543 , 4.60429404, 4.60383543, 4.60337847, 4.60292316,\n",
       "       4.60246949, 4.60201745, 4.60156704, 4.60111826, 4.60067109,\n",
       "       4.60022553, 4.59978157, 4.59933922, 4.59889846, 4.59845928,\n",
       "       4.59802169, 4.59758567, 4.59715123, 4.59671835, 4.59628702,\n",
       "       4.59585726, 4.59542904, 4.59500236, 4.59457722, 4.59415361,\n",
       "       4.59373152, 4.59331096, 4.59289191, 4.59247437, 4.59205834,\n",
       "       4.5916438 , 4.59123076, 4.5908192 , 4.59040913, 4.59000053,\n",
       "       4.58959341, 4.58918775, 4.58878355, 4.58838081, 4.58797952,\n",
       "       4.58757968, 4.58718127, 4.5867843 , 4.58638876, 4.58599465,\n",
       "       4.58560195, 4.58521067, 4.5848208 , 4.58443233, 4.58404526,\n",
       "       4.58365959, 4.58327531, 4.5828924 , 4.58251088, 4.58213074,\n",
       "       4.58175196, 4.58137454, 4.58099849, 4.58062379, 4.58025044,\n",
       "       4.57987844, 4.57950777, 4.57913844, 4.57877044, 4.57840377,\n",
       "       4.57803841, 4.57767437, 4.57731165, 4.57695023, 4.57659011,\n",
       "       4.57623129, 4.57587376, 4.57551752, 4.57516256, 4.57480888,\n",
       "       4.57445648, 4.57410534, 4.57375547, 4.57340686, 4.57305951,\n",
       "       4.5727134 , 4.57236854, 4.57202493, 4.57168255, 4.57134141,\n",
       "       4.57100149, 4.5706628 , 4.57032533, 4.56998908, 4.56965403,\n",
       "       4.56932019, 4.56898756, 4.56865612, 4.56832588, 4.56799682,\n",
       "       4.56766896, 4.56734227, 4.56701676, 4.56669242, 4.56636925,\n",
       "       4.56604724, 4.5657264 , 4.56540671, 4.56508817, 4.56477078,\n",
       "       4.56445453, 4.56413942, 4.56382544, 4.5635126 , 4.56320088,\n",
       "       4.56289029, 4.56258082, 4.56227246, 4.56196521, 4.56165906,\n",
       "       4.56135402, 4.56105008, 4.56074723, 4.56044548, 4.56014481,\n",
       "       4.55984522, 4.55954672, 4.55924929, 4.55895293, 4.55865763,\n",
       "       4.5583634 , 4.55807023, 4.55777812, 4.55748706, 4.55719705,\n",
       "       4.55690808, 4.55662015, 4.55633326, 4.5560474 , 4.55576258,\n",
       "       4.55547878, 4.555196  , 4.55491424, 4.55463349, 4.55435376,\n",
       "       4.55407503, 4.55379731, 4.55352058, 4.55324486, 4.55297012,\n",
       "       4.55269638, 4.55242362, 4.55215185, 4.55188105, 4.55161123,\n",
       "       4.55134239, 4.55107451, 4.55080759, 4.55054164, 4.55027664,\n",
       "       4.5500126 , 4.54974951, 4.54948737, 4.54922617, 4.54896591,\n",
       "       4.54870659, 4.5484482 , 4.54819075, 4.54793422, 4.54767862,\n",
       "       4.54742393, 4.54717017, 4.54691731, 4.54666537, 4.54641434,\n",
       "       4.54616421, 4.54591498, 4.54566665, 4.54541921, 4.54517267,\n",
       "       4.54492701, 4.54468224, 4.54443835, 4.54419534, 4.5439532 ,\n",
       "       4.54371194, 4.54347154, 4.54323201, 4.54299334, 4.54275554,\n",
       "       4.54251859, 4.54228249, 4.54204724, 4.54181284, 4.54157929,\n",
       "       4.54134657, 4.5411147 , 4.54088366, 4.54065345, 4.54042407,\n",
       "       4.54019552, 4.53996779, 4.53974088, 4.53951478, 4.53928951,\n",
       "       4.53906504, 4.53884138, 4.53861853, 4.53839648, 4.53817523,\n",
       "       4.53795478, 4.53773512, 4.53751625, 4.53729817, 4.53708088,\n",
       "       4.53686437, 4.53664864, 4.53643368, 4.5362195 , 4.5360061 ,\n",
       "       4.53579346, 4.53558158, 4.53537047, 4.53516012, 4.53495053,\n",
       "       4.53474169, 4.53453361, 4.53432627, 4.53411968, 4.53391384,\n",
       "       4.53370873, 4.53350437, 4.53330074, 4.53309784, 4.53289568,\n",
       "       4.53269424, 4.53249353, 4.53229355, 4.53209428, 4.53189573,\n",
       "       4.53169789, 4.53150077, 4.53130436, 4.53110866, 4.53091366,\n",
       "       4.53071936, 4.53052576, 4.53033286, 4.53014066, 4.52994915,\n",
       "       4.52975832, 4.52956819, 4.52937874, 4.52918997, 4.52900188,\n",
       "       4.52881447, 4.52862773, 4.52844167, 4.52825628, 4.52807155,\n",
       "       4.52788749, 4.52770409, 4.52752136, 4.52733928, 4.52715786,\n",
       "       4.52697709, 4.52679697, 4.5266175 , 4.52643868, 4.5262605 ,\n",
       "       4.52608297, 4.52590607, 4.52572981, 4.52555418, 4.52537919,\n",
       "       4.52520483, 4.52503109, 4.52485799, 4.5246855 , 4.52451364,\n",
       "       4.52434239, 4.52417177, 4.52400175, 4.52383235, 4.52366356,\n",
       "       4.52349538, 4.5233278 , 4.52316083, 4.52299446, 4.52282868,\n",
       "       4.52266351, 4.52249893, 4.52233494, 4.52217154, 4.52200874,\n",
       "       4.52184651, 4.52168488, 4.52152382, 4.52136335, 4.52120345,\n",
       "       4.52104413, 4.52088538, 4.5207272 , 4.5205696 , 4.52041256,\n",
       "       4.52025609, 4.52010018, 4.51994483, 4.51979004, 4.51963581,\n",
       "       4.51948214, 4.51932902, 4.51917645, 4.51902443, 4.51887295,\n",
       "       4.51872203, 4.51857164, 4.5184218 , 4.5182725 , 4.51812373,\n",
       "       4.51797551, 4.51782781, 4.51768065, 4.51753402, 4.51738791,\n",
       "       4.51724233, 4.51709728, 4.51695275, 4.51680874, 4.51666525,\n",
       "       4.51652227, 4.51637981, 4.51623786, 4.51609643, 4.5159555 ])"
      ]
     },
     "execution_count": 215,
     "metadata": {},
     "output_type": "execute_result"
    }
   ],
   "source": [
    "cost"
   ]
  },
  {
   "cell_type": "code",
   "execution_count": 220,
   "id": "64970680",
   "metadata": {},
   "outputs": [
    {
     "name": "stdout",
     "output_type": "stream",
     "text": [
      "x \n",
      " [ 5.0269      5.20039596  5.37389192  5.54738788  5.72088384  5.8943798\n",
      "  6.06787576  6.24137172  6.41486768  6.58836364  6.7618596   6.93535556\n",
      "  7.10885152  7.28234747  7.45584343  7.62933939  7.80283535  7.97633131\n",
      "  8.14982727  8.32332323  8.49681919  8.67031515  8.84381111  9.01730707\n",
      "  9.19080303  9.36429899  9.53779495  9.71129091  9.88478687 10.05828283\n",
      " 10.23177879 10.40527475 10.57877071 10.75226667 10.92576263 11.09925859\n",
      " 11.27275455 11.44625051 11.61974646 11.79324242 11.96673838 12.14023434\n",
      " 12.3137303  12.48722626 12.66072222 12.83421818 13.00771414 13.1812101\n",
      " 13.35470606 13.52820202 13.70169798 13.87519394 14.0486899  14.22218586\n",
      " 14.39568182 14.56917778 14.74267374 14.9161697  15.08966566 15.26316162\n",
      " 15.43665758 15.61015354 15.78364949 15.95714545 16.13064141 16.30413737\n",
      " 16.47763333 16.65112929 16.82462525 16.99812121 17.17161717 17.34511313\n",
      " 17.51860909 17.69210505 17.86560101 18.03909697 18.21259293 18.38608889\n",
      " 18.55958485 18.73308081 18.90657677 19.08007273 19.25356869 19.42706465\n",
      " 19.60056061 19.77405657 19.94755253 20.12104848 20.29454444 20.4680404\n",
      " 20.64153636 20.81503232 20.98852828 21.16202424 21.3355202  21.50901616\n",
      " 21.68251212 21.85600808 22.02950404 22.203     ]\n",
      "g \n",
      " [-3.24140214  1.1272942 ]\n",
      "f \n",
      " [ 2.42539308  2.62097407  2.81655506  3.01213605  3.20771704  3.40329803\n",
      "  3.59887902  3.79446001  3.990041    4.18562199  4.38120298  4.57678397\n",
      "  4.77236495  4.96794594  5.16352693  5.35910792  5.55468891  5.7502699\n",
      "  5.94585089  6.14143188  6.33701287  6.53259386  6.72817485  6.92375584\n",
      "  7.11933683  7.31491782  7.51049881  7.7060798   7.90166079  8.09724177\n",
      "  8.29282276  8.48840375  8.68398474  8.87956573  9.07514672  9.27072771\n",
      "  9.4663087   9.66188969  9.85747068 10.05305167 10.24863266 10.44421365\n",
      " 10.63979464 10.83537563 11.03095662 11.2265376  11.42211859 11.61769958\n",
      " 11.81328057 12.00886156 12.20444255 12.40002354 12.59560453 12.79118552\n",
      " 12.98676651 13.1823475  13.37792849 13.57350948 13.76909047 13.96467146\n",
      " 14.16025245 14.35583344 14.55141442 14.74699541 14.9425764  15.13815739\n",
      " 15.33373838 15.52931937 15.72490036 15.92048135 16.11606234 16.31164333\n",
      " 16.50722432 16.70280531 16.8983863  17.09396729 17.28954828 17.48512927\n",
      " 17.68071025 17.87629124 18.07187223 18.26745322 18.46303421 18.6586152\n",
      " 18.85419619 19.04977718 19.24535817 19.44093916 19.63652015 19.83210114\n",
      " 20.02768213 20.22326312 20.41884411 20.6144251  20.81000609 21.00558707\n",
      " 21.20116806 21.39674905 21.59233004 21.78791103]\n"
     ]
    },
    {
     "data": {
      "text/plain": [
       "Text(0.5, 1.0, 'Predicted Profit vs. Population Size')"
      ]
     },
     "execution_count": 220,
     "metadata": {},
     "output_type": "execute_result"
    },
    {
     "data": {
      "image/png": "[encoded data removed]",
      "text/plain": [
       "<Figure size 360x360 with 1 Axes>"
      ]
     },
     "metadata": {
      "needs_background": "light"
     },
     "output_type": "display_data"
    }
   ],
   "source": [
    "x = np.linspace(data.Population.min(), data.Population.max(), 100)\n",
    "print('x \\n',x)\n",
    "print('g \\n',g)\n",
    "f = g[0] + (g[1] * x)\n",
    "print('f \\n',f)\n",
    "\n",
    "# draw the line\n",
    "\n",
    "fig, ax = plt.subplots(figsize=(5,5))\n",
    "ax.plot(x, f, 'r', label='Prediction')\n",
    "ax.scatter(data.Population, data.Profit, label='Traning Data')\n",
    "ax.legend(loc=2)\n",
    "ax.set_xlabel('Population')\n",
    "ax.set_ylabel('Profit')\n",
    "ax.set_title('Predicted Profit vs. Population Size')\n",
    "\n"
   ]
  },
  {
   "cell_type": "code",
   "execution_count": 222,
   "id": "ab0a4286",
   "metadata": {},
   "outputs": [
    {
     "data": {
      "text/plain": [
       "Text(0.5, 1.0, 'Error vs. Training Epoch')"
      ]
     },
     "execution_count": 222,
     "metadata": {},
     "output_type": "execute_result"
    },
    {
     "data": {
      "image/png": "[encoded data removed]",
      "text/plain": [
       "<Figure size 360x360 with 1 Axes>"
      ]
     },
     "metadata": {
      "needs_background": "light"
     },
     "output_type": "display_data"
    }
   ],
   "source": [
    "# draw error graph\n",
    "\n",
    "fig, ax = plt.subplots(figsize=(5,5))\n",
    "ax.plot(np.arange(1000), cost, 'r')\n",
    "ax.set_xlabel('Iterations')\n",
    "ax.set_ylabel('Cost')\n",
    "ax.set_title('Error vs. Training Epoch')\n"
   ]
  },
  {
   "cell_type": "code",
   "execution_count": null,
   "id": "44318d75",
   "metadata": {},
   "outputs": [],
   "source": []
  }
 ],
 "metadata": {
  "kernelspec": {
   "display_name": "Python 3 (ipykernel)",
   "language": "python",
   "name": "python3"
  },
  "language_info": {
   "codemirror_mode": {
    "name": "ipython",
    "version": 3
   },
   "file_extension": ".py",
   "mimetype": "text/x-python",
   "name": "python",
   "nbconvert_exporter": "python",
   "pygments_lexer": "ipython3",
   "version": "3.10.3"
  }
 },
 "nbformat": 4,
 "nbformat_minor": 5
}
